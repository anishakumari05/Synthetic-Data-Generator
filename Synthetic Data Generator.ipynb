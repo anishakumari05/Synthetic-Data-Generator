{
 "cells": [
  {
   "cell_type": "code",
   "execution_count": 1,
   "id": "3fc776ff-0957-408d-99a3-f1cf8a2d7dfb",
   "metadata": {},
   "outputs": [
    {
     "name": "stdout",
     "output_type": "stream",
     "text": [
      "WARNING:tensorflow:From C:\\Users\\HP\\AppData\\Local\\Programs\\Python\\Python312\\Lib\\site-packages\\tf_keras\\src\\losses.py:2976: The name tf.losses.sparse_softmax_cross_entropy is deprecated. Please use tf.compat.v1.losses.sparse_softmax_cross_entropy instead.\n",
      "\n"
     ]
    }
   ],
   "source": [
    "import pandas as pd\n",
    "from transformers import GPT2Tokenizer, GPT2LMHeadModel, Trainer, TrainingArguments\n",
    "from datasets import Dataset\n",
    "import torch"
   ]
  },
  {
   "cell_type": "code",
   "execution_count": 2,
   "id": "a13f609b-832c-49f2-9187-a4ed3b97b768",
   "metadata": {},
   "outputs": [],
   "source": [
    "reviews_df = pd.read_csv('C:/Users/HP/Downloads/assignment_reviews_metadata/reviews_supplements.csv')\n",
    "product_asin_df = pd.read_csv('C:/Users/HP/Downloads/assignment_reviews_metadata/product_asin.csv')"
   ]
  },
  {
   "cell_type": "code",
   "execution_count": 3,
   "id": "9525eeb8-d8d8-437e-9941-48230f50b1e6",
   "metadata": {},
   "outputs": [
    {
     "data": {
      "text/html": [
       "<div>\n",
       "<style scoped>\n",
       "    .dataframe tbody tr th:only-of-type {\n",
       "        vertical-align: middle;\n",
       "    }\n",
       "\n",
       "    .dataframe tbody tr th {\n",
       "        vertical-align: top;\n",
       "    }\n",
       "\n",
       "    .dataframe thead th {\n",
       "        text-align: right;\n",
       "    }\n",
       "</style>\n",
       "<table border=\"1\" class=\"dataframe\">\n",
       "  <thead>\n",
       "    <tr style=\"text-align: right;\">\n",
       "      <th></th>\n",
       "      <th>rating</th>\n",
       "      <th>title</th>\n",
       "      <th>text</th>\n",
       "      <th>asin</th>\n",
       "      <th>parent_asin</th>\n",
       "      <th>user_id</th>\n",
       "      <th>timestamp</th>\n",
       "      <th>helpful_vote</th>\n",
       "      <th>verified_purchase</th>\n",
       "      <th>date</th>\n",
       "      <th>time</th>\n",
       "    </tr>\n",
       "  </thead>\n",
       "  <tbody>\n",
       "    <tr>\n",
       "      <th>0</th>\n",
       "      <td>4</td>\n",
       "      <td>B Complex in gel cap form</td>\n",
       "      <td>I bought this along with Vit C in gel cap form...</td>\n",
       "      <td>B00012ND5G</td>\n",
       "      <td>B00012ND5G</td>\n",
       "      <td>AGDVFFLJWAQ3ULNNKF4LXID2RVSQ</td>\n",
       "      <td>2009-12-11 00:37:33</td>\n",
       "      <td>1</td>\n",
       "      <td>True</td>\n",
       "      <td>2009-12-11</td>\n",
       "      <td>00:37</td>\n",
       "    </tr>\n",
       "    <tr>\n",
       "      <th>1</th>\n",
       "      <td>5</td>\n",
       "      <td>Five Stars</td>\n",
       "      <td>great product</td>\n",
       "      <td>B00013Z0ZQ</td>\n",
       "      <td>B00013Z0ZQ</td>\n",
       "      <td>AG3BSKXHDGP6E3EGQD2SXCK6KFQQ</td>\n",
       "      <td>2015-01-04 03:11:26</td>\n",
       "      <td>0</td>\n",
       "      <td>True</td>\n",
       "      <td>2015-01-04</td>\n",
       "      <td>03:11</td>\n",
       "    </tr>\n",
       "    <tr>\n",
       "      <th>2</th>\n",
       "      <td>5</td>\n",
       "      <td>Five Stars</td>\n",
       "      <td>Came as expectedly</td>\n",
       "      <td>B00013Z0ZQ</td>\n",
       "      <td>B00013Z0ZQ</td>\n",
       "      <td>AHG2WKFD4LXPC46WWC6JMQGX52JA</td>\n",
       "      <td>2015-09-27 19:15:33</td>\n",
       "      <td>0</td>\n",
       "      <td>True</td>\n",
       "      <td>2015-09-27</td>\n",
       "      <td>19:15</td>\n",
       "    </tr>\n",
       "    <tr>\n",
       "      <th>3</th>\n",
       "      <td>5</td>\n",
       "      <td>Vitamin Shoppe Dry Vitamin A</td>\n",
       "      <td>Excellent Product ..... Fast Delivery ....... ...</td>\n",
       "      <td>B00013Z1KA</td>\n",
       "      <td>B00013Z1KA</td>\n",
       "      <td>AEOF7RT3AC4ACRX5HGIP2V3BNIHA</td>\n",
       "      <td>2019-02-09 19:33:16.911</td>\n",
       "      <td>0</td>\n",
       "      <td>True</td>\n",
       "      <td>2019-02-09</td>\n",
       "      <td>19:33</td>\n",
       "    </tr>\n",
       "    <tr>\n",
       "      <th>4</th>\n",
       "      <td>5</td>\n",
       "      <td>Un producto que compro regularmente</td>\n",
       "      <td>Es muy buena vitamina</td>\n",
       "      <td>B00013Z1KA</td>\n",
       "      <td>B00013Z1KA</td>\n",
       "      <td>AGW2WETWQRL2PKUGTL2LU7IJ2BPQ</td>\n",
       "      <td>2022-07-25 14:11:10.936</td>\n",
       "      <td>0</td>\n",
       "      <td>True</td>\n",
       "      <td>2022-07-25</td>\n",
       "      <td>14:11</td>\n",
       "    </tr>\n",
       "  </tbody>\n",
       "</table>\n",
       "</div>"
      ],
      "text/plain": [
       "   rating                                title  \\\n",
       "0       4            B Complex in gel cap form   \n",
       "1       5                           Five Stars   \n",
       "2       5                           Five Stars   \n",
       "3       5         Vitamin Shoppe Dry Vitamin A   \n",
       "4       5  Un producto que compro regularmente   \n",
       "\n",
       "                                                text        asin parent_asin  \\\n",
       "0  I bought this along with Vit C in gel cap form...  B00012ND5G  B00012ND5G   \n",
       "1                                      great product  B00013Z0ZQ  B00013Z0ZQ   \n",
       "2                                 Came as expectedly  B00013Z0ZQ  B00013Z0ZQ   \n",
       "3  Excellent Product ..... Fast Delivery ....... ...  B00013Z1KA  B00013Z1KA   \n",
       "4                              Es muy buena vitamina  B00013Z1KA  B00013Z1KA   \n",
       "\n",
       "                        user_id                timestamp  helpful_vote  \\\n",
       "0  AGDVFFLJWAQ3ULNNKF4LXID2RVSQ      2009-12-11 00:37:33             1   \n",
       "1  AG3BSKXHDGP6E3EGQD2SXCK6KFQQ      2015-01-04 03:11:26             0   \n",
       "2  AHG2WKFD4LXPC46WWC6JMQGX52JA      2015-09-27 19:15:33             0   \n",
       "3  AEOF7RT3AC4ACRX5HGIP2V3BNIHA  2019-02-09 19:33:16.911             0   \n",
       "4  AGW2WETWQRL2PKUGTL2LU7IJ2BPQ  2022-07-25 14:11:10.936             0   \n",
       "\n",
       "   verified_purchase        date   time  \n",
       "0               True  2009-12-11  00:37  \n",
       "1               True  2015-01-04  03:11  \n",
       "2               True  2015-09-27  19:15  \n",
       "3               True  2019-02-09  19:33  \n",
       "4               True  2022-07-25  14:11  "
      ]
     },
     "execution_count": 3,
     "metadata": {},
     "output_type": "execute_result"
    }
   ],
   "source": [
    "reviews_df.head()"
   ]
  },
  {
   "cell_type": "code",
   "execution_count": 4,
   "id": "64bb64be-7c9d-4331-95b6-78d0e5206a0c",
   "metadata": {},
   "outputs": [
    {
     "data": {
      "text/html": [
       "<div>\n",
       "<style scoped>\n",
       "    .dataframe tbody tr th:only-of-type {\n",
       "        vertical-align: middle;\n",
       "    }\n",
       "\n",
       "    .dataframe tbody tr th {\n",
       "        vertical-align: top;\n",
       "    }\n",
       "\n",
       "    .dataframe thead th {\n",
       "        text-align: right;\n",
       "    }\n",
       "</style>\n",
       "<table border=\"1\" class=\"dataframe\">\n",
       "  <thead>\n",
       "    <tr style=\"text-align: right;\">\n",
       "      <th></th>\n",
       "      <th>rating</th>\n",
       "      <th>title</th>\n",
       "      <th>text</th>\n",
       "      <th>asin</th>\n",
       "      <th>parent_asin</th>\n",
       "      <th>user_id</th>\n",
       "      <th>timestamp</th>\n",
       "      <th>helpful_vote</th>\n",
       "      <th>verified_purchase</th>\n",
       "      <th>date</th>\n",
       "      <th>time</th>\n",
       "      <th>cleaned_review</th>\n",
       "    </tr>\n",
       "  </thead>\n",
       "  <tbody>\n",
       "    <tr>\n",
       "      <th>0</th>\n",
       "      <td>4</td>\n",
       "      <td>B Complex in gel cap form</td>\n",
       "      <td>I bought this along with Vit C in gel cap form...</td>\n",
       "      <td>B00012ND5G</td>\n",
       "      <td>B00012ND5G</td>\n",
       "      <td>AGDVFFLJWAQ3ULNNKF4LXID2RVSQ</td>\n",
       "      <td>2009-12-11 00:37:33</td>\n",
       "      <td>1</td>\n",
       "      <td>True</td>\n",
       "      <td>2009-12-11</td>\n",
       "      <td>00:37</td>\n",
       "      <td>I bought this along with Vit C in gel cap form...</td>\n",
       "    </tr>\n",
       "    <tr>\n",
       "      <th>1</th>\n",
       "      <td>5</td>\n",
       "      <td>Five Stars</td>\n",
       "      <td>great product</td>\n",
       "      <td>B00013Z0ZQ</td>\n",
       "      <td>B00013Z0ZQ</td>\n",
       "      <td>AG3BSKXHDGP6E3EGQD2SXCK6KFQQ</td>\n",
       "      <td>2015-01-04 03:11:26</td>\n",
       "      <td>0</td>\n",
       "      <td>True</td>\n",
       "      <td>2015-01-04</td>\n",
       "      <td>03:11</td>\n",
       "      <td>great product</td>\n",
       "    </tr>\n",
       "    <tr>\n",
       "      <th>2</th>\n",
       "      <td>5</td>\n",
       "      <td>Five Stars</td>\n",
       "      <td>Came as expectedly</td>\n",
       "      <td>B00013Z0ZQ</td>\n",
       "      <td>B00013Z0ZQ</td>\n",
       "      <td>AHG2WKFD4LXPC46WWC6JMQGX52JA</td>\n",
       "      <td>2015-09-27 19:15:33</td>\n",
       "      <td>0</td>\n",
       "      <td>True</td>\n",
       "      <td>2015-09-27</td>\n",
       "      <td>19:15</td>\n",
       "      <td>Came as expectedly</td>\n",
       "    </tr>\n",
       "    <tr>\n",
       "      <th>3</th>\n",
       "      <td>5</td>\n",
       "      <td>Vitamin Shoppe Dry Vitamin A</td>\n",
       "      <td>Excellent Product ..... Fast Delivery ....... ...</td>\n",
       "      <td>B00013Z1KA</td>\n",
       "      <td>B00013Z1KA</td>\n",
       "      <td>AEOF7RT3AC4ACRX5HGIP2V3BNIHA</td>\n",
       "      <td>2019-02-09 19:33:16.911</td>\n",
       "      <td>0</td>\n",
       "      <td>True</td>\n",
       "      <td>2019-02-09</td>\n",
       "      <td>19:33</td>\n",
       "      <td>Excellent Product  Fast Delivery  Will Buy Fro...</td>\n",
       "    </tr>\n",
       "    <tr>\n",
       "      <th>4</th>\n",
       "      <td>5</td>\n",
       "      <td>Un producto que compro regularmente</td>\n",
       "      <td>Es muy buena vitamina</td>\n",
       "      <td>B00013Z1KA</td>\n",
       "      <td>B00013Z1KA</td>\n",
       "      <td>AGW2WETWQRL2PKUGTL2LU7IJ2BPQ</td>\n",
       "      <td>2022-07-25 14:11:10.936</td>\n",
       "      <td>0</td>\n",
       "      <td>True</td>\n",
       "      <td>2022-07-25</td>\n",
       "      <td>14:11</td>\n",
       "      <td>Es muy buena vitamina</td>\n",
       "    </tr>\n",
       "  </tbody>\n",
       "</table>\n",
       "</div>"
      ],
      "text/plain": [
       "   rating                                title  \\\n",
       "0       4            B Complex in gel cap form   \n",
       "1       5                           Five Stars   \n",
       "2       5                           Five Stars   \n",
       "3       5         Vitamin Shoppe Dry Vitamin A   \n",
       "4       5  Un producto que compro regularmente   \n",
       "\n",
       "                                                text        asin parent_asin  \\\n",
       "0  I bought this along with Vit C in gel cap form...  B00012ND5G  B00012ND5G   \n",
       "1                                      great product  B00013Z0ZQ  B00013Z0ZQ   \n",
       "2                                 Came as expectedly  B00013Z0ZQ  B00013Z0ZQ   \n",
       "3  Excellent Product ..... Fast Delivery ....... ...  B00013Z1KA  B00013Z1KA   \n",
       "4                              Es muy buena vitamina  B00013Z1KA  B00013Z1KA   \n",
       "\n",
       "                        user_id                timestamp  helpful_vote  \\\n",
       "0  AGDVFFLJWAQ3ULNNKF4LXID2RVSQ      2009-12-11 00:37:33             1   \n",
       "1  AG3BSKXHDGP6E3EGQD2SXCK6KFQQ      2015-01-04 03:11:26             0   \n",
       "2  AHG2WKFD4LXPC46WWC6JMQGX52JA      2015-09-27 19:15:33             0   \n",
       "3  AEOF7RT3AC4ACRX5HGIP2V3BNIHA  2019-02-09 19:33:16.911             0   \n",
       "4  AGW2WETWQRL2PKUGTL2LU7IJ2BPQ  2022-07-25 14:11:10.936             0   \n",
       "\n",
       "   verified_purchase        date   time  \\\n",
       "0               True  2009-12-11  00:37   \n",
       "1               True  2015-01-04  03:11   \n",
       "2               True  2015-09-27  19:15   \n",
       "3               True  2019-02-09  19:33   \n",
       "4               True  2022-07-25  14:11   \n",
       "\n",
       "                                      cleaned_review  \n",
       "0  I bought this along with Vit C in gel cap form...  \n",
       "1                                      great product  \n",
       "2                                 Came as expectedly  \n",
       "3  Excellent Product  Fast Delivery  Will Buy Fro...  \n",
       "4                              Es muy buena vitamina  "
      ]
     },
     "execution_count": 4,
     "metadata": {},
     "output_type": "execute_result"
    }
   ],
   "source": [
    "reviews_df.drop_duplicates(inplace=True)\n",
    "reviews_df.dropna(inplace=True)\n",
    "reviews_df['cleaned_review'] = reviews_df['text'].str.replace(r'[^\\w\\s]', '', regex=True)\n",
    "reviews_df.head()"
   ]
  },
  {
   "cell_type": "code",
   "execution_count": 5,
   "id": "15e591c6-338f-4200-95ac-db88bf54b4ee",
   "metadata": {},
   "outputs": [
    {
     "name": "stderr",
     "output_type": "stream",
     "text": [
      "C:\\Users\\HP\\AppData\\Local\\Programs\\Python\\Python312\\Lib\\site-packages\\transformers\\tokenization_utils_base.py:1617: FutureWarning: `clean_up_tokenization_spaces` was not set. It will be set to `True` by default. This behavior will be deprecated in transformers v4.45, and will be then set to `False` by default. For more details check this issue: https://github.com/huggingface/transformers/issues/31884\n",
      "  warnings.warn(\n"
     ]
    },
    {
     "data": {
      "application/vnd.jupyter.widget-view+json": {
       "model_id": "1de49e8e1bf24e8da983add94ac40be1",
       "version_major": 2,
       "version_minor": 0
      },
      "text/plain": [
       "Map:   0%|          | 0/16660 [00:00<?, ? examples/s]"
      ]
     },
     "metadata": {},
     "output_type": "display_data"
    },
    {
     "name": "stdout",
     "output_type": "stream",
     "text": [
      "Dataset({\n",
      "    features: ['cleaned_review', '__index_level_0__', 'input_ids', 'attention_mask', 'labels'],\n",
      "    num_rows: 16660\n",
      "})\n"
     ]
    }
   ],
   "source": [
    "tokenizer = GPT2Tokenizer.from_pretrained(\"gpt2\")\n",
    "tokenizer.pad_token =tokenizer.eos_token\n",
    "\n",
    "def tokenize_function(examples):\n",
    "    tokens =tokenizer(\n",
    "        examples['cleaned_review'], \n",
    "        truncation= True, \n",
    "        padding ='max_length', \n",
    "        max_length =128,\n",
    "        return_tensors='pt'\n",
    "    )\n",
    "    \n",
    "    tokens['labels']= tokens['input_ids']\n",
    "    return tokens\n",
    "dataset =Dataset.from_pandas(reviews_df[['cleaned_review']])\n",
    "tokenized_dataset =dataset.map(tokenize_function , batched=True)\n",
    "tokenized_dataset.set_format(type='torch',columns= ['input_ids', 'attention_mask','labels'])\n",
    "print(tokenized_dataset)"
   ]
  },
  {
   "cell_type": "code",
   "execution_count": 6,
   "id": "1edf2112-203e-4153-996a-ea688bef9829",
   "metadata": {},
   "outputs": [
    {
     "name": "stdout",
     "output_type": "stream",
     "text": [
      "Training size:13328,Validation size: 3332\n"
     ]
    }
   ],
   "source": [
    "train_test_split = tokenized_dataset.train_test_split(test_size= 0.2)\n",
    "train_dataset= train_test_split['train']\n",
    "val_dataset =train_test_split['test']\n",
    "print(f\"Training size:{len(train_dataset)}, Validation size: {len(val_dataset)}\")"
   ]
  },
  {
   "cell_type": "code",
   "execution_count": 14,
   "id": "6707766b-67c4-4c4a-8686-20b037a8947b",
   "metadata": {},
   "outputs": [
    {
     "name": "stdout",
     "output_type": "stream",
     "text": [
      "Reduced Training size: 1332, Reduced Validation size: 333\n"
     ]
    }
   ],
   "source": [
    "import random\n",
    "train_size =int(len(train_dataset) *0.1)\n",
    "small_train_dataset= train_dataset.shuffle(seed= 42).select(range(train_size))\n",
    "val_size =int(len(val_dataset) *0.1) \n",
    "small_val_dataset= val_dataset.shuffle(seed= 42).select(range(val_size))\n",
    "print(f\"Reduced Training size: {len(small_train_dataset)},Reduced Validation size: {len(small_val_dataset)}\")"
   ]
  },
  {
   "cell_type": "code",
   "execution_count": 8,
   "id": "a4cb9f14-97dc-4808-8f3a-c6518b74792c",
   "metadata": {},
   "outputs": [],
   "source": [
    "training_args = TrainingArguments(\n",
    "    output_dir=\"C:/Users/HP/OneDrive/Desktop/SHL/gpt2-synthetic-reviews\",\n",
    "    overwrite_output_dir=True,\n",
    "    num_train_epochs=1, \n",
    "    per_device_train_batch_size=1,\n",
    "    per_device_eval_batch_size=1,\n",
    "    eval_strategy=\"no\",\n",
    "    save_steps=500,\n",
    "    logging_dir=\"C:/Users/HP/OneDrive/Desktop/SHL/logs\",\n",
    "    logging_steps=100,\n",
    "    max_steps=1000,\n",
    ")"
   ]
  },
  {
   "cell_type": "code",
   "execution_count": 9,
   "id": "dd9a6468-36d9-41e1-ba31-3ec17d66924d",
   "metadata": {},
   "outputs": [],
   "source": [
    "model = GPT2LMHeadModel.from_pretrained(\"gpt2\")"
   ]
  },
  {
   "cell_type": "code",
   "execution_count": 10,
   "id": "9d00767a-a4e6-4add-b952-49eee2da5e44",
   "metadata": {},
   "outputs": [
    {
     "name": "stderr",
     "output_type": "stream",
     "text": [
      "max_steps is given, it will override any value given in num_train_epochs\n"
     ]
    },
    {
     "data": {
      "text/html": [
       "\n",
       "    <div>\n",
       "      \n",
       "      <progress value='1000' max='1000' style='width:300px; height:20px; vertical-align: middle;'></progress>\n",
       "      [1000/1000 26:57, Epoch 0/1]\n",
       "    </div>\n",
       "    <table border=\"1\" class=\"dataframe\">\n",
       "  <thead>\n",
       " <tr style=\"text-align: left;\">\n",
       "      <th>Step</th>\n",
       "      <th>Training Loss</th>\n",
       "    </tr>\n",
       "  </thead>\n",
       "  <tbody>\n",
       "    <tr>\n",
       "      <td>100</td>\n",
       "      <td>1.282200</td>\n",
       "    </tr>\n",
       "    <tr>\n",
       "      <td>200</td>\n",
       "      <td>1.089100</td>\n",
       "    </tr>\n",
       "    <tr>\n",
       "      <td>300</td>\n",
       "      <td>1.160200</td>\n",
       "    </tr>\n",
       "    <tr>\n",
       "      <td>400</td>\n",
       "      <td>0.961900</td>\n",
       "    </tr>\n",
       "    <tr>\n",
       "      <td>500</td>\n",
       "      <td>0.952900</td>\n",
       "    </tr>\n",
       "    <tr>\n",
       "      <td>600</td>\n",
       "      <td>0.959600</td>\n",
       "    </tr>\n",
       "    <tr>\n",
       "      <td>700</td>\n",
       "      <td>1.008800</td>\n",
       "    </tr>\n",
       "    <tr>\n",
       "      <td>800</td>\n",
       "      <td>0.954500</td>\n",
       "    </tr>\n",
       "    <tr>\n",
       "      <td>900</td>\n",
       "      <td>0.981200</td>\n",
       "    </tr>\n",
       "    <tr>\n",
       "      <td>1000</td>\n",
       "      <td>1.053400</td>\n",
       "    </tr>\n",
       "  </tbody>\n",
       "</table><p>"
      ],
      "text/plain": [
       "<IPython.core.display.HTML object>"
      ]
     },
     "metadata": {},
     "output_type": "display_data"
    },
    {
     "name": "stdout",
     "output_type": "stream",
     "text": [
      "Model and tokenizer saved successfully.\n"
     ]
    }
   ],
   "source": [
    "trainer = Trainer(\n",
    "    model =model,\n",
    "    args =training_args,\n",
    "    train_dataset =small_train_dataset,\n",
    "    eval_dataset= small_val_dataset,\n",
    ")\n",
    "trainer.train()\n",
    "\n",
    "model.save_pretrained(\"C:/Users/HP/OneDrive/Desktop/SHL/gpt2-synthetic-reviews\")\n",
    "tokenizer.save_pretrained(\"C:/Users/HP/OneDrive/Desktop/SHL/gpt2-synthetic-reviews\")\n",
    "print(\"Model and tokenizer saved successfully.\")"
   ]
  },
  {
   "cell_type": "code",
   "execution_count": 11,
   "id": "b5b61814-f98f-4b92-b19b-a1595e240755",
   "metadata": {},
   "outputs": [],
   "source": [
    "def generate_review(prompt, model, tokenizer, max_length=100):\n",
    "    inputs = tokenizer.encode(prompt, return_tensors='pt')\n",
    "    outputs= model.generate(\n",
    "        inputs,\n",
    "        max_length= max_length,\n",
    "        do_sample= True,\n",
    "        top_k= 50,\n",
    "        top_p= 0.95,\n",
    "        num_return_sequences=1\n",
    "    )\n",
    "return tokenizer.decode(outputs[0], skip_special_tokens= True)"
   ]
  },
  {
   "cell_type": "code",
   "execution_count": 12,
   "id": "83bd7e25-19eb-4cb5-9f22-5837637f98f4",
   "metadata": {},
   "outputs": [
    {
     "name": "stderr",
     "output_type": "stream",
     "text": [
      "The attention mask and the pad token id were not set. As a consequence, you may observe unexpected behavior. Please pass your input's `attention_mask` to obtain reliable results.\n",
      "Setting `pad_token_id` to `eos_token_id`:None for open-end generation.\n",
      "The attention mask is not set and cannot be inferred from input because pad token is same as eos token. As a consequence, you may observe unexpected behavior. Please pass your input's `attention_mask` to obtain reliable results.\n",
      "The attention mask and the pad token id were not set. As a consequence, you may observe unexpected behavior. Please pass your input's `attention_mask` to obtain reliable results.\n",
      "Setting `pad_token_id` to `eos_token_id`:None for open-end generation.\n",
      "The attention mask and the pad token id were not set. As a consequence, you may observe unexpected behavior. Please pass your input's `attention_mask` to obtain reliable results.\n",
      "Setting `pad_token_id` to `eos_token_id`:None for open-end generation.\n",
      "The attention mask and the pad token id were not set. As a consequence, you may observe unexpected behavior. Please pass your input's `attention_mask` to obtain reliable results.\n",
      "Setting `pad_token_id` to `eos_token_id`:None for open-end generation.\n",
      "The attention mask and the pad token id were not set. As a consequence, you may observe unexpected behavior. Please pass your input's `attention_mask` to obtain reliable results.\n",
      "Setting `pad_token_id` to `eos_token_id`:None for open-end generation.\n",
      "The attention mask and the pad token id were not set. As a consequence, you may observe unexpected behavior. Please pass your input's `attention_mask` to obtain reliable results.\n",
      "Setting `pad_token_id` to `eos_token_id`:None for open-end generation.\n",
      "The attention mask and the pad token id were not set. As a consequence, you may observe unexpected behavior. Please pass your input's `attention_mask` to obtain reliable results.\n",
      "Setting `pad_token_id` to `eos_token_id`:None for open-end generation.\n",
      "The attention mask and the pad token id were not set. As a consequence, you may observe unexpected behavior. Please pass your input's `attention_mask` to obtain reliable results.\n",
      "Setting `pad_token_id` to `eos_token_id`:None for open-end generation.\n",
      "The attention mask and the pad token id were not set. As a consequence, you may observe unexpected behavior. Please pass your input's `attention_mask` to obtain reliable results.\n",
      "Setting `pad_token_id` to `eos_token_id`:None for open-end generation.\n",
      "The attention mask and the pad token id were not set. As a consequence, you may observe unexpected behavior. Please pass your input's `attention_mask` to obtain reliable results.\n",
      "Setting `pad_token_id` to `eos_token_id`:None for open-end generation.\n"
     ]
    }
   ],
   "source": [
    "synthetic_reviews = []\n",
    "original_prompts = []\n",
    "ratings = []\n",
    "for i in range(10):\n",
    "    prompt = small_train_dataset['cleaned_review'][i][:50]\n",
    "    generated_review = generate_review(prompt, model,tokenizer)\n",
    "    synthetic_reviews.append(generated_review)\n",
    "    original_prompts.append(prompt)\n",
    "    ratings.append(random.randint(1,5))"
   ]
  },
  {
   "cell_type": "code",
   "execution_count": 15,
   "id": "407dc057-afd1-42ed-a67c-0d453dce84ec",
   "metadata": {},
   "outputs": [
    {
     "name": "stdout",
     "output_type": "stream",
     "text": [
      "Generated synthetic reviews saved to synthetic_reviews.csv!\n"
     ]
    }
   ],
   "source": [
    "synthetic_df = pd.DataFrame({\n",
    "    \"synthetic_review\": synthetic_reviews,\n",
    "    \"original_prompt\": original_prompts,\n",
    "    \"rating\": ratings\n",
    "})\n",
    "\n",
    "synthetic_df.to_csv(\"synthetic_reviews.csv\", index= False)\n",
    "print(\"Generated synthetic reviews saved to synthetic_reviews.csv!\")"
   ]
  },
  {
   "cell_type": "code",
   "execution_count": null,
   "id": "ef02beb2-bfe6-4479-b2cf-a8b007d5ac69",
   "metadata": {},
   "outputs": [],
   "source": []
  }
 ],
 "metadata": {
  "kernelspec": {
   "display_name": "Python 3 (ipykernel)",
   "language": "python",
   "name": "python3"
  },
  "language_info": {
   "codemirror_mode": {
    "name": "ipython",
    "version": 3
   },
   "file_extension": ".py",
   "mimetype": "text/x-python",
   "name": "python",
   "nbconvert_exporter": "python",
   "pygments_lexer": "ipython3",
   "version": "3.12.5"
  }
 },
 "nbformat": 4,
 "nbformat_minor": 5
}
